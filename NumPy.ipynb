{
 "cells": [
  {
   "cell_type": "code",
   "execution_count": 1,
   "id": "101fd67c-20a9-4d44-80ee-1fd8725961d7",
   "metadata": {},
   "outputs": [],
   "source": [
    "!pip install numpy --quiet"
   ]
  },
  {
   "cell_type": "code",
   "execution_count": 2,
   "id": "548f7ba4-6117-40a4-a905-66f308de5ad2",
   "metadata": {},
   "outputs": [],
   "source": [
    "import numpy as np"
   ]
  },
  {
   "cell_type": "markdown",
   "id": "d91528de-e875-485d-a680-5863b3354151",
   "metadata": {},
   "source": [
    "NumPy is a low-level library written in C for high-level mathematical functions. NumPy cleverly overcomes the problem of running slower algorithms on Python using multidimensional arrays and functions that operate on arrays. Any algorithm can then be expressed as a function on arrays, allowing the algorithms to be run quickly.\n",
    "\n",
    "Applications of NumPy\n",
    "\n",
    "- A powerful N-dimensional array object.\n",
    "- Sophisticated functions.\n",
    "- Tools for integrating C/C++ and Fortran code.\n",
    "- Useful linear algebra, Fourier transforms,and random number capabilities."
   ]
  },
  {
   "cell_type": "markdown",
   "id": "5dd8aaf6-9a12-4f10-b63a-3fed225d9c36",
   "metadata": {},
   "source": [
    "# Creating NumPy Arrays"
   ]
  },
  {
   "cell_type": "markdown",
   "id": "f020b8a5-8270-4ef1-8468-ae8240825352",
   "metadata": {},
   "source": [
    "1. np.array() // 1-D and 2-D arrays.\n",
    "2. np.zeros/ones/empty/random() functions.\n",
    "3. np.arange()\n",
    "4. np.linspace()\n",
    "5. Copy()\n",
    "6. np.dentity()"
   ]
  },
  {
   "cell_type": "code",
   "execution_count": 3,
   "id": "fd3082e6-2c23-4775-b086-9322753f38dc",
   "metadata": {},
   "outputs": [],
   "source": [
    "arr1 = np.array([1,2,3,4,5]) #one dimension array."
   ]
  },
  {
   "cell_type": "code",
   "execution_count": 4,
   "id": "4806f228-fed4-421b-81a1-88885f046d19",
   "metadata": {},
   "outputs": [
    {
     "data": {
      "text/plain": [
       "numpy.ndarray"
      ]
     },
     "execution_count": 4,
     "metadata": {},
     "output_type": "execute_result"
    }
   ],
   "source": [
    "type(arr1) # the type function returns the type of the object."
   ]
  },
  {
   "cell_type": "code",
   "execution_count": 5,
   "id": "d54d6d06-46c5-4f39-8ce7-a77910489f6d",
   "metadata": {},
   "outputs": [
    {
     "data": {
      "text/plain": [
       "array([[1, 2, 3],\n",
       "       [6, 7, 8]])"
      ]
     },
     "execution_count": 5,
     "metadata": {},
     "output_type": "execute_result"
    }
   ],
   "source": [
    "arr2 = np.array([[1,2,3],[6,7,8]]) #two dimension array.\n",
    "arr2"
   ]
  },
  {
   "cell_type": "code",
   "execution_count": 6,
   "id": "7b033032-b7ed-4c49-b9fe-072fd3f6271d",
   "metadata": {},
   "outputs": [
    {
     "data": {
      "text/plain": [
       "array([[0., 0., 0.],\n",
       "       [0., 0., 0.]])"
      ]
     },
     "execution_count": 6,
     "metadata": {},
     "output_type": "execute_result"
    }
   ],
   "source": [
    "arr3 = np.zeros((2,3)) #the size of the array is passed as a tuple.\n",
    "arr3"
   ]
  },
  {
   "cell_type": "code",
   "execution_count": 7,
   "id": "f727a7ad-945b-4007-b8ff-e4715363a52b",
   "metadata": {},
   "outputs": [
    {
     "data": {
      "text/plain": [
       "array([[1., 1., 1., 1.],\n",
       "       [1., 1., 1., 1.],\n",
       "       [1., 1., 1., 1.]])"
      ]
     },
     "execution_count": 7,
     "metadata": {},
     "output_type": "execute_result"
    }
   ],
   "source": [
    "arr4 = np.ones((3,4))\n",
    "arr4"
   ]
  },
  {
   "cell_type": "code",
   "execution_count": 8,
   "id": "b95ea0c6-29d7-4db7-a123-c9de5271d42d",
   "metadata": {},
   "outputs": [
    {
     "data": {
      "text/plain": [
       "array([[0.05200743, 0.92355079, 0.96203423, 0.55616653],\n",
       "       [0.95999899, 0.16829437, 0.24683913, 0.68750265],\n",
       "       [0.03155347, 0.05837933, 0.9884128 , 0.82765588]])"
      ]
     },
     "execution_count": 8,
     "metadata": {},
     "output_type": "execute_result"
    }
   ],
   "source": [
    "arr5 = np.random.rand(3,4)\n",
    "arr5"
   ]
  },
  {
   "cell_type": "code",
   "execution_count": 9,
   "id": "4ed8b9ee-6f1b-482f-97f4-f2be16e00b7f",
   "metadata": {},
   "outputs": [
    {
     "data": {
      "text/plain": [
       "array([[1., 0., 0., 0., 0.],\n",
       "       [0., 1., 0., 0., 0.],\n",
       "       [0., 0., 1., 0., 0.],\n",
       "       [0., 0., 0., 1., 0.],\n",
       "       [0., 0., 0., 0., 1.]])"
      ]
     },
     "execution_count": 9,
     "metadata": {},
     "output_type": "execute_result"
    }
   ],
   "source": [
    "np.identity(5)"
   ]
  },
  {
   "cell_type": "code",
   "execution_count": 10,
   "id": "6b2ac363-71e0-497c-86b6-d4c5614f70f4",
   "metadata": {},
   "outputs": [
    {
     "data": {
      "text/plain": [
       "array([0, 1, 2, 3, 4, 5, 6, 7, 8, 9])"
      ]
     },
     "execution_count": 10,
     "metadata": {},
     "output_type": "execute_result"
    }
   ],
   "source": [
    "np.arange(10)"
   ]
  },
  {
   "cell_type": "code",
   "execution_count": 11,
   "id": "da0a40c0-18d7-4d3d-b036-43bf6259e79f",
   "metadata": {},
   "outputs": [
    {
     "data": {
      "text/plain": [
       "array([ 5,  6,  7,  8,  9, 10, 11, 12, 13, 14, 15])"
      ]
     },
     "execution_count": 11,
     "metadata": {},
     "output_type": "execute_result"
    }
   ],
   "source": [
    "np.arange(5,16)"
   ]
  },
  {
   "cell_type": "code",
   "execution_count": 12,
   "id": "149fe8a3-79cd-4ddf-9793-4af43f5351c3",
   "metadata": {},
   "outputs": [
    {
     "data": {
      "text/plain": [
       "array([ 5,  7,  9, 11, 13, 15])"
      ]
     },
     "execution_count": 12,
     "metadata": {},
     "output_type": "execute_result"
    }
   ],
   "source": [
    "np.arange(5,16,2)"
   ]
  },
  {
   "cell_type": "code",
   "execution_count": 13,
   "id": "69365908-3308-4010-acbe-635d8854b50f",
   "metadata": {},
   "outputs": [
    {
     "data": {
      "text/plain": [
       "array([10., 15., 20.])"
      ]
     },
     "execution_count": 13,
     "metadata": {},
     "output_type": "execute_result"
    }
   ],
   "source": [
    "np.linspace(10,20,3)"
   ]
  },
  {
   "cell_type": "code",
   "execution_count": 14,
   "id": "63de2c7e-bc14-4f92-be8d-2ae2e152450d",
   "metadata": {},
   "outputs": [
    {
     "data": {
      "text/plain": [
       "array([1, 2, 3, 4, 5])"
      ]
     },
     "execution_count": 14,
     "metadata": {},
     "output_type": "execute_result"
    }
   ],
   "source": [
    "arr6 = arr1.copy()\n",
    "arr6"
   ]
  },
  {
   "cell_type": "markdown",
   "id": "4c9c28ba-78fb-4502-93f9-a2102aa48ca2",
   "metadata": {},
   "source": [
    "# Properties and Arrtributes"
   ]
  },
  {
   "cell_type": "markdown",
   "id": "eda8d07f-1709-4377-a394-7e013a31c721",
   "metadata": {},
   "source": [
    "1. Shape\n",
    "2. nDim\n",
    "3. Size\n",
    "4. Itemsize\n",
    "5. Dtype\n",
    "6. astype()"
   ]
  },
  {
   "cell_type": "code",
   "execution_count": 15,
   "id": "debd6545-7d79-4096-ba21-d9d1a1dd668d",
   "metadata": {},
   "outputs": [
    {
     "data": {
      "text/plain": [
       "array([[[1, 2],\n",
       "        [3, 4]],\n",
       "\n",
       "       [[5, 6],\n",
       "        [7, 9]]])"
      ]
     },
     "execution_count": 15,
     "metadata": {},
     "output_type": "execute_result"
    }
   ],
   "source": [
    "arr9 = np.array([[[1,2],[3,4]],[[5,6],[7,9]]]) # this is a 3d matrix and its dimensions can be found by ndim method.\n",
    "arr9"
   ]
  },
  {
   "cell_type": "code",
   "execution_count": 16,
   "id": "9bfb8f22-dc79-494b-985e-deae4ddbde15",
   "metadata": {},
   "outputs": [
    {
     "data": {
      "text/plain": [
       "(2, 2, 2)"
      ]
     },
     "execution_count": 16,
     "metadata": {},
     "output_type": "execute_result"
    }
   ],
   "source": [
    "arr9.shape"
   ]
  },
  {
   "cell_type": "code",
   "execution_count": 17,
   "id": "4f5e48d0-4b9b-4dc6-81e5-ac5c03d82ad3",
   "metadata": {},
   "outputs": [
    {
     "data": {
      "text/plain": [
       "3"
      ]
     },
     "execution_count": 17,
     "metadata": {},
     "output_type": "execute_result"
    }
   ],
   "source": [
    "arr9.ndim"
   ]
  },
  {
   "cell_type": "code",
   "execution_count": 18,
   "id": "0f2ed421-9cfa-4bd8-8891-211f28bfc2b6",
   "metadata": {},
   "outputs": [
    {
     "data": {
      "text/plain": [
       "array([[1, 2, 3],\n",
       "       [6, 7, 8]])"
      ]
     },
     "execution_count": 18,
     "metadata": {},
     "output_type": "execute_result"
    }
   ],
   "source": [
    "arr2"
   ]
  },
  {
   "cell_type": "code",
   "execution_count": 19,
   "id": "b75e0557-720b-418c-b19b-e6513c6a6e4b",
   "metadata": {},
   "outputs": [
    {
     "data": {
      "text/plain": [
       "2"
      ]
     },
     "execution_count": 19,
     "metadata": {},
     "output_type": "execute_result"
    }
   ],
   "source": [
    "arr2.ndim"
   ]
  },
  {
   "cell_type": "code",
   "execution_count": 20,
   "id": "af9c982e-d175-47dd-a30c-f1b169aa51a0",
   "metadata": {},
   "outputs": [
    {
     "data": {
      "text/plain": [
       "1"
      ]
     },
     "execution_count": 20,
     "metadata": {},
     "output_type": "execute_result"
    }
   ],
   "source": [
    "arr1.ndim"
   ]
  },
  {
   "cell_type": "code",
   "execution_count": 21,
   "id": "400b2de0-08b9-4808-b6db-135474f04216",
   "metadata": {},
   "outputs": [
    {
     "data": {
      "text/plain": [
       "array([1, 2, 3, 4, 5])"
      ]
     },
     "execution_count": 21,
     "metadata": {},
     "output_type": "execute_result"
    }
   ],
   "source": [
    "arr1"
   ]
  },
  {
   "cell_type": "code",
   "execution_count": 22,
   "id": "d7d3b3ae-1d6f-4068-af75-0c16675f172f",
   "metadata": {},
   "outputs": [
    {
     "data": {
      "text/plain": [
       "5"
      ]
     },
     "execution_count": 22,
     "metadata": {},
     "output_type": "execute_result"
    }
   ],
   "source": [
    "arr1.size # prints number of elements inside the array."
   ]
  },
  {
   "cell_type": "code",
   "execution_count": 23,
   "id": "d7b58e3d-3707-4aee-b559-23d4a41f3ec4",
   "metadata": {},
   "outputs": [
    {
     "data": {
      "text/plain": [
       "6"
      ]
     },
     "execution_count": 23,
     "metadata": {},
     "output_type": "execute_result"
    }
   ],
   "source": [
    "arr2.size"
   ]
  },
  {
   "cell_type": "code",
   "execution_count": 24,
   "id": "d30621ac-6d23-41c1-b5a8-9830b0ddaa7e",
   "metadata": {},
   "outputs": [
    {
     "data": {
      "text/plain": [
       "8"
      ]
     },
     "execution_count": 24,
     "metadata": {},
     "output_type": "execute_result"
    }
   ],
   "source": [
    "arr9.size"
   ]
  },
  {
   "cell_type": "code",
   "execution_count": 25,
   "id": "0af57721-7e7f-4dc4-a358-2f17ceb64d35",
   "metadata": {},
   "outputs": [
    {
     "name": "stdout",
     "output_type": "stream",
     "text": [
      "[[0. 0. 0.]\n",
      " [0. 0. 0.]]\n"
     ]
    },
    {
     "data": {
      "text/plain": [
       "8"
      ]
     },
     "execution_count": 25,
     "metadata": {},
     "output_type": "execute_result"
    }
   ],
   "source": [
    "print(arr3)\n",
    "arr3.itemsize # prints the size of element. like this is a float so 8 bytes"
   ]
  },
  {
   "cell_type": "code",
   "execution_count": 26,
   "id": "b05dbf64-eb10-49ee-844e-9bc8c184de87",
   "metadata": {},
   "outputs": [
    {
     "data": {
      "text/plain": [
       "dtype('int64')"
      ]
     },
     "execution_count": 26,
     "metadata": {},
     "output_type": "execute_result"
    }
   ],
   "source": [
    "arr9.dtype"
   ]
  },
  {
   "cell_type": "code",
   "execution_count": 27,
   "id": "45c0c433-0103-46da-b84e-2f6e0980608c",
   "metadata": {},
   "outputs": [],
   "source": [
    "#we can also change the data type by using a method called astype"
   ]
  },
  {
   "cell_type": "code",
   "execution_count": 28,
   "id": "18d79824-6aea-43d6-adc1-9b2c1f534f18",
   "metadata": {},
   "outputs": [
    {
     "data": {
      "text/plain": [
       "array([[[1, 2],\n",
       "        [3, 4]],\n",
       "\n",
       "       [[5, 6],\n",
       "        [7, 9]]], dtype=int16)"
      ]
     },
     "execution_count": 28,
     "metadata": {},
     "output_type": "execute_result"
    }
   ],
   "source": [
    "arr9.astype('int16')"
   ]
  },
  {
   "cell_type": "code",
   "execution_count": 29,
   "id": "84e97cf5-f1c5-46bd-bc6e-3ba43f1c7269",
   "metadata": {},
   "outputs": [
    {
     "data": {
      "text/plain": [
       "8"
      ]
     },
     "execution_count": 29,
     "metadata": {},
     "output_type": "execute_result"
    }
   ],
   "source": [
    "arr9.itemsize"
   ]
  },
  {
   "cell_type": "markdown",
   "id": "40d2ba5e-f0a7-476d-877c-82de1b79f591",
   "metadata": {},
   "source": [
    "## List vs Array\n",
    "\n",
    "1. Faster\n",
    "2. Convenient\n",
    "3. Less Memory"
   ]
  },
  {
   "cell_type": "code",
   "execution_count": 30,
   "id": "634f4d87-8db9-43e7-8363-db39fa41ccd1",
   "metadata": {},
   "outputs": [],
   "source": [
    "import sys\n",
    "lista = range(100)\n",
    "nparr = np.arange(100)"
   ]
  },
  {
   "cell_type": "code",
   "execution_count": 31,
   "id": "d49366db-b953-4618-880f-bbace5c3abbb",
   "metadata": {},
   "outputs": [
    {
     "name": "stdout",
     "output_type": "stream",
     "text": [
      "2800\n"
     ]
    }
   ],
   "source": [
    "print(sys.getsizeof(98)*len(lista))"
   ]
  },
  {
   "cell_type": "code",
   "execution_count": 32,
   "id": "87c166b5-69f8-4a69-9c6c-a80bb257cdea",
   "metadata": {},
   "outputs": [
    {
     "name": "stdout",
     "output_type": "stream",
     "text": [
      "800\n"
     ]
    }
   ],
   "source": [
    "print(nparr.itemsize*nparr.size) # here we can see that we are already saving a lot of space by using numpy arrays."
   ]
  },
  {
   "cell_type": "code",
   "execution_count": 33,
   "id": "d19cd8d1-d57e-4c93-81a5-ea717501f020",
   "metadata": {},
   "outputs": [],
   "source": [
    "x = range(1000)\n",
    "y = range(1000,2000)"
   ]
  },
  {
   "cell_type": "code",
   "execution_count": 34,
   "id": "5a3a3026-ad93-4ea1-9a6b-e6f516f68eb9",
   "metadata": {},
   "outputs": [
    {
     "name": "stdout",
     "output_type": "stream",
     "text": [
      "CPU times: user 86 µs, sys: 33 µs, total: 119 µs\n",
      "Wall time: 184 µs\n"
     ]
    }
   ],
   "source": [
    "%%time\n",
    "c = [x+y for x,y in zip(x,y)]"
   ]
  },
  {
   "cell_type": "code",
   "execution_count": 35,
   "id": "5ddb29e8-0cf7-45a3-9671-b9b82e8fcea3",
   "metadata": {},
   "outputs": [],
   "source": [
    "a = np.arange(1000)\n",
    "b = np.arange(1000,2000)"
   ]
  },
  {
   "cell_type": "code",
   "execution_count": 36,
   "id": "1e6983f6-b99c-4fe1-affd-928beaf42a6b",
   "metadata": {},
   "outputs": [
    {
     "name": "stdout",
     "output_type": "stream",
     "text": [
      "CPU times: user 33 µs, sys: 37 µs, total: 70 µs\n",
      "Wall time: 105 µs\n"
     ]
    }
   ],
   "source": [
    "%%time\n",
    "c = a + b"
   ]
  },
  {
   "cell_type": "markdown",
   "id": "517add22-9087-4cf2-b3e3-8af5ae5d9b7a",
   "metadata": {},
   "source": [
    "## Indexing, Slicing and Iteration"
   ]
  },
  {
   "cell_type": "code",
   "execution_count": 37,
   "id": "77ba243b-7181-476d-8f36-18882024b449",
   "metadata": {},
   "outputs": [],
   "source": [
    "arr12 = np.arange(24).reshape(6,4)"
   ]
  },
  {
   "cell_type": "code",
   "execution_count": 38,
   "id": "3eaf43e2-9bc4-4a48-bf5b-c5766335ed35",
   "metadata": {},
   "outputs": [
    {
     "data": {
      "text/plain": [
       "array([[ 0,  1,  2,  3],\n",
       "       [ 4,  5,  6,  7],\n",
       "       [ 8,  9, 10, 11],\n",
       "       [12, 13, 14, 15],\n",
       "       [16, 17, 18, 19],\n",
       "       [20, 21, 22, 23]])"
      ]
     },
     "execution_count": 38,
     "metadata": {},
     "output_type": "execute_result"
    }
   ],
   "source": [
    "arr12"
   ]
  },
  {
   "cell_type": "code",
   "execution_count": 39,
   "id": "227528a0-5630-4053-8a67-7e64ff46a4f8",
   "metadata": {},
   "outputs": [
    {
     "data": {
      "text/plain": [
       "array([ 8,  9, 10, 11])"
      ]
     },
     "execution_count": 39,
     "metadata": {},
     "output_type": "execute_result"
    }
   ],
   "source": [
    "arr12[2]"
   ]
  },
  {
   "cell_type": "code",
   "execution_count": 40,
   "id": "33d2b057-ec31-4d57-a9f8-a8889aecad1e",
   "metadata": {},
   "outputs": [
    {
     "data": {
      "text/plain": [
       "11"
      ]
     },
     "execution_count": 40,
     "metadata": {},
     "output_type": "execute_result"
    }
   ],
   "source": [
    "arr12[2,3]"
   ]
  },
  {
   "cell_type": "code",
   "execution_count": 41,
   "id": "6c559fe4-c559-4416-8eab-70f742bdbd2b",
   "metadata": {},
   "outputs": [
    {
     "data": {
      "text/plain": [
       "array([[ 6,  7],\n",
       "       [10, 11]])"
      ]
     },
     "execution_count": 41,
     "metadata": {},
     "output_type": "execute_result"
    }
   ],
   "source": [
    "arr12[1:3,2:4]"
   ]
  },
  {
   "cell_type": "code",
   "execution_count": 42,
   "id": "0600cbcc-66ec-4296-a575-937321e57252",
   "metadata": {},
   "outputs": [
    {
     "data": {
      "text/plain": [
       "array([[ 1,  2],\n",
       "       [ 5,  6],\n",
       "       [ 9, 10],\n",
       "       [13, 14],\n",
       "       [17, 18],\n",
       "       [21, 22]])"
      ]
     },
     "execution_count": 42,
     "metadata": {},
     "output_type": "execute_result"
    }
   ],
   "source": [
    "arr12[:,1:3]"
   ]
  },
  {
   "cell_type": "code",
   "execution_count": 43,
   "id": "47b0a299-6aa5-42a7-960b-41327c9b6d53",
   "metadata": {},
   "outputs": [
    {
     "data": {
      "text/plain": [
       "array([[ 0,  1,  2,  3],\n",
       "       [ 4,  5,  6,  7],\n",
       "       [ 8,  9, 10, 11],\n",
       "       [12, 13, 14, 15],\n",
       "       [16, 17, 18, 19],\n",
       "       [20, 21, 22, 23]])"
      ]
     },
     "execution_count": 43,
     "metadata": {},
     "output_type": "execute_result"
    }
   ],
   "source": [
    "arr12"
   ]
  },
  {
   "cell_type": "code",
   "execution_count": 44,
   "id": "b5d5fba6-3028-4d54-82b2-fdbca4c89ce1",
   "metadata": {},
   "outputs": [
    {
     "name": "stdout",
     "output_type": "stream",
     "text": [
      "[0 1 2 3]\n",
      "[4 5 6 7]\n",
      "[ 8  9 10 11]\n",
      "[12 13 14 15]\n",
      "[16 17 18 19]\n",
      "[20 21 22 23]\n"
     ]
    }
   ],
   "source": [
    "for i in arr12:\n",
    "    print(i)"
   ]
  },
  {
   "cell_type": "code",
   "execution_count": 45,
   "id": "23ddd0b2-75c2-48e2-9d12-fdae2fa3743c",
   "metadata": {},
   "outputs": [
    {
     "name": "stdout",
     "output_type": "stream",
     "text": [
      "0\n",
      "1\n",
      "2\n",
      "3\n",
      "4\n",
      "5\n",
      "6\n",
      "7\n",
      "8\n",
      "9\n",
      "10\n",
      "11\n",
      "12\n",
      "13\n",
      "14\n",
      "15\n",
      "16\n",
      "17\n",
      "18\n",
      "19\n",
      "20\n",
      "21\n",
      "22\n",
      "23\n"
     ]
    }
   ],
   "source": [
    "for i in np.nditer(arr12):\n",
    "    print(i)"
   ]
  },
  {
   "cell_type": "markdown",
   "id": "c62b3ec4-438c-48f5-bc2d-bc27e50552e2",
   "metadata": {},
   "source": [
    "## Numpy Operations"
   ]
  },
  {
   "cell_type": "code",
   "execution_count": 46,
   "id": "f2297f83-441c-4836-b1a4-5d05fedf75a7",
   "metadata": {},
   "outputs": [],
   "source": [
    "arr13 = np.array([1,2,3,4,5,6])\n",
    "arr14 = np.array([4,5,6,7,8,9])"
   ]
  },
  {
   "cell_type": "code",
   "execution_count": 47,
   "id": "59e40769-673b-453e-b65e-f7cd20879214",
   "metadata": {},
   "outputs": [
    {
     "data": {
      "text/plain": [
       "array([-3, -3, -3, -3, -3, -3])"
      ]
     },
     "execution_count": 47,
     "metadata": {},
     "output_type": "execute_result"
    }
   ],
   "source": [
    "arr13-arr14"
   ]
  },
  {
   "cell_type": "code",
   "execution_count": 48,
   "id": "c14c5ed0-9c4d-483a-8ca6-0f88a1917e44",
   "metadata": {},
   "outputs": [
    {
     "data": {
      "text/plain": [
       "array([ 4, 10, 18, 28, 40, 54])"
      ]
     },
     "execution_count": 48,
     "metadata": {},
     "output_type": "execute_result"
    }
   ],
   "source": [
    "arr13*arr14"
   ]
  },
  {
   "cell_type": "code",
   "execution_count": 49,
   "id": "6aca19c1-09b7-4284-9cc4-02744ba317c4",
   "metadata": {},
   "outputs": [
    {
     "data": {
      "text/plain": [
       "array([ 2,  4,  6,  8, 10, 12])"
      ]
     },
     "execution_count": 49,
     "metadata": {},
     "output_type": "execute_result"
    }
   ],
   "source": [
    "arr13*2"
   ]
  },
  {
   "cell_type": "code",
   "execution_count": 50,
   "id": "932d801f-f482-4b4e-9ce8-bc436c846592",
   "metadata": {},
   "outputs": [
    {
     "data": {
      "text/plain": [
       "array([False, False, False,  True,  True,  True])"
      ]
     },
     "execution_count": 50,
     "metadata": {},
     "output_type": "execute_result"
    }
   ],
   "source": [
    "arr13>3"
   ]
  },
  {
   "cell_type": "code",
   "execution_count": 51,
   "id": "e1da0094-dded-4e16-b9de-b01d2aef2e88",
   "metadata": {},
   "outputs": [],
   "source": [
    "arr15 = np.arange(6).reshape(2,3)\n",
    "arr16 = np.arange(6,12).reshape(3,2)"
   ]
  },
  {
   "cell_type": "code",
   "execution_count": 52,
   "id": "bf80e05b-e4cd-44f7-9476-b622fc70fd46",
   "metadata": {},
   "outputs": [
    {
     "data": {
      "text/plain": [
       "array([[ 28,  31],\n",
       "       [100, 112]])"
      ]
     },
     "execution_count": 52,
     "metadata": {},
     "output_type": "execute_result"
    }
   ],
   "source": [
    "arr15.dot(arr16)"
   ]
  },
  {
   "cell_type": "code",
   "execution_count": 53,
   "id": "d3bee80b-43a3-4558-9c03-fe0ec8c902a3",
   "metadata": {},
   "outputs": [],
   "source": [
    "## Some Basic Operations"
   ]
  },
  {
   "cell_type": "code",
   "execution_count": 54,
   "id": "337cf007-9142-4131-a311-f954c2b1b22e",
   "metadata": {},
   "outputs": [
    {
     "data": {
      "text/plain": [
       "array([[ 6,  7],\n",
       "       [ 8,  9],\n",
       "       [10, 11]])"
      ]
     },
     "execution_count": 54,
     "metadata": {},
     "output_type": "execute_result"
    }
   ],
   "source": [
    "arr16"
   ]
  },
  {
   "cell_type": "code",
   "execution_count": 66,
   "id": "38015219-525b-4940-ba5a-828a343ebd2d",
   "metadata": {},
   "outputs": [
    {
     "data": {
      "text/plain": [
       "6"
      ]
     },
     "execution_count": 66,
     "metadata": {},
     "output_type": "execute_result"
    }
   ],
   "source": [
    "arr16.min()"
   ]
  },
  {
   "cell_type": "code",
   "execution_count": 67,
   "id": "ec49653f-6647-4370-8bc5-e75839fa9206",
   "metadata": {},
   "outputs": [
    {
     "name": "stdout",
     "output_type": "stream",
     "text": [
      "[6 7]\n"
     ]
    }
   ],
   "source": [
    "print(arr16.min(axis=0))"
   ]
  },
  {
   "cell_type": "code",
   "execution_count": 68,
   "id": "39fa399e-0b43-44e1-8185-386ca2d4b7c3",
   "metadata": {},
   "outputs": [
    {
     "data": {
      "text/plain": [
       "array([ 6,  8, 10])"
      ]
     },
     "execution_count": 68,
     "metadata": {},
     "output_type": "execute_result"
    }
   ],
   "source": [
    "arr16.min(axis=1)"
   ]
  },
  {
   "cell_type": "code",
   "execution_count": 69,
   "id": "27fcb057-7402-40d9-bc2d-460046e54a53",
   "metadata": {},
   "outputs": [
    {
     "data": {
      "text/plain": [
       "11"
      ]
     },
     "execution_count": 69,
     "metadata": {},
     "output_type": "execute_result"
    }
   ],
   "source": [
    "arr16.max()"
   ]
  },
  {
   "cell_type": "code",
   "execution_count": 71,
   "id": "756dbc46-16b2-4289-b7dd-1b8fefe74b38",
   "metadata": {},
   "outputs": [
    {
     "data": {
      "text/plain": [
       "51"
      ]
     },
     "execution_count": 71,
     "metadata": {},
     "output_type": "execute_result"
    }
   ],
   "source": [
    "arr16.sum()"
   ]
  },
  {
   "cell_type": "code",
   "execution_count": 73,
   "id": "47baef5f-e8a6-4342-9b0f-d78a4ba0e9db",
   "metadata": {},
   "outputs": [
    {
     "data": {
      "text/plain": [
       "8.5"
      ]
     },
     "execution_count": 73,
     "metadata": {},
     "output_type": "execute_result"
    }
   ],
   "source": [
    "arr16.mean()"
   ]
  },
  {
   "cell_type": "code",
   "execution_count": 74,
   "id": "2b4f340d-4506-4bb3-bec2-576c7b98eeb0",
   "metadata": {},
   "outputs": [
    {
     "data": {
      "text/plain": [
       "1.707825127659933"
      ]
     },
     "execution_count": 74,
     "metadata": {},
     "output_type": "execute_result"
    }
   ],
   "source": [
    "arr16.std()"
   ]
  },
  {
   "cell_type": "code",
   "execution_count": 77,
   "id": "b8ea0bc7-080b-4518-95ac-d3c07873b01e",
   "metadata": {},
   "outputs": [
    {
     "data": {
      "text/plain": [
       "8.5"
      ]
     },
     "execution_count": 77,
     "metadata": {},
     "output_type": "execute_result"
    }
   ],
   "source": [
    "np.median(arr16)"
   ]
  },
  {
   "cell_type": "code",
   "execution_count": 76,
   "id": "83ff4d25-5a4a-4e7a-9531-77d49e746e4f",
   "metadata": {},
   "outputs": [
    {
     "data": {
      "text/plain": [
       "array([[-0.2794155 ,  0.6569866 ],\n",
       "       [ 0.98935825,  0.41211849],\n",
       "       [-0.54402111, -0.99999021]])"
      ]
     },
     "execution_count": 76,
     "metadata": {},
     "output_type": "execute_result"
    }
   ],
   "source": [
    "np.sin(arr16)"
   ]
  },
  {
   "cell_type": "code",
   "execution_count": 78,
   "id": "2dbad787-e9a0-406c-b470-bb0f68090336",
   "metadata": {},
   "outputs": [
    {
     "data": {
      "text/plain": [
       "array([[  403.42879349,  1096.63315843],\n",
       "       [ 2980.95798704,  8103.08392758],\n",
       "       [22026.46579481, 59874.1417152 ]])"
      ]
     },
     "execution_count": 78,
     "metadata": {},
     "output_type": "execute_result"
    }
   ],
   "source": [
    "np.exp(arr16)"
   ]
  },
  {
   "cell_type": "code",
   "execution_count": 79,
   "id": "72ed63b8-ef0d-4f7d-83bc-d973d7606593",
   "metadata": {},
   "outputs": [
    {
     "data": {
      "text/plain": [
       "array([[2.44948974, 2.64575131],\n",
       "       [2.82842712, 3.        ],\n",
       "       [3.16227766, 3.31662479]])"
      ]
     },
     "execution_count": 79,
     "metadata": {},
     "output_type": "execute_result"
    }
   ],
   "source": [
    "np.sqrt(arr16)"
   ]
  },
  {
   "cell_type": "markdown",
   "id": "bd1a91f5-2077-4686-8a4f-aec2812c386d",
   "metadata": {},
   "source": [
    "## Reshaping Numpy Arrays\n",
    "1. Ravel\n",
    "2. Reshape\n",
    "3. Transpose\n",
    "4. Stacking\n",
    "5. Splitting"
   ]
  },
  {
   "cell_type": "code",
   "execution_count": 80,
   "id": "80e0bbe3-8f0f-478f-9fd7-9f52673983c2",
   "metadata": {},
   "outputs": [
    {
     "data": {
      "text/plain": [
       "2"
      ]
     },
     "execution_count": 80,
     "metadata": {},
     "output_type": "execute_result"
    }
   ],
   "source": [
    "arr16.ndim"
   ]
  },
  {
   "cell_type": "code",
   "execution_count": 82,
   "id": "896fc015-8737-4c22-9e65-abc246c954c9",
   "metadata": {},
   "outputs": [
    {
     "data": {
      "text/plain": [
       "array([ 6,  7,  8,  9, 10, 11])"
      ]
     },
     "execution_count": 82,
     "metadata": {},
     "output_type": "execute_result"
    }
   ],
   "source": [
    "arr16.ravel() # Takes higher dimension arrays to a single dimension array without loosing any information."
   ]
  },
  {
   "cell_type": "code",
   "execution_count": 85,
   "id": "e5fb03f2-807d-48c1-ad09-3927b3a72718",
   "metadata": {},
   "outputs": [
    {
     "data": {
      "text/plain": [
       "array([[ 6,  7,  8],\n",
       "       [ 9, 10, 11]])"
      ]
     },
     "execution_count": 85,
     "metadata": {},
     "output_type": "execute_result"
    }
   ],
   "source": [
    "arr16.reshape(2,3)"
   ]
  },
  {
   "cell_type": "code",
   "execution_count": 87,
   "id": "d983dbe0-1f27-491f-9525-360669e272d6",
   "metadata": {},
   "outputs": [
    {
     "data": {
      "text/plain": [
       "array([[ 6,  8, 10],\n",
       "       [ 7,  9, 11]])"
      ]
     },
     "execution_count": 87,
     "metadata": {},
     "output_type": "execute_result"
    }
   ],
   "source": [
    "arr16.transpose()"
   ]
  },
  {
   "cell_type": "code",
   "execution_count": 90,
   "id": "42f6090d-8001-4529-8ed2-369a7c786585",
   "metadata": {},
   "outputs": [
    {
     "data": {
      "text/plain": [
       "array([[0, 1, 2],\n",
       "       [3, 4, 5]])"
      ]
     },
     "execution_count": 90,
     "metadata": {},
     "output_type": "execute_result"
    }
   ],
   "source": [
    "arr15"
   ]
  },
  {
   "cell_type": "code",
   "execution_count": 91,
   "id": "8cd61257-53b7-4709-b5d4-99967183b4d9",
   "metadata": {},
   "outputs": [
    {
     "data": {
      "text/plain": [
       "array([[ 6,  7],\n",
       "       [ 8,  9],\n",
       "       [10, 11]])"
      ]
     },
     "execution_count": 91,
     "metadata": {},
     "output_type": "execute_result"
    }
   ],
   "source": [
    "arr16"
   ]
  },
  {
   "cell_type": "code",
   "execution_count": 92,
   "id": "a2838a75-ace2-4af6-abc4-6af2db5d8033",
   "metadata": {},
   "outputs": [
    {
     "data": {
      "text/plain": [
       "array([[21, 34, 47],\n",
       "       [27, 44, 61],\n",
       "       [33, 54, 75]])"
      ]
     },
     "execution_count": 92,
     "metadata": {},
     "output_type": "execute_result"
    }
   ],
   "source": [
    "arr16.dot(arr15)"
   ]
  },
  {
   "cell_type": "code",
   "execution_count": 96,
   "id": "7bf463a9-7a6d-4f85-910a-b78384b01ad0",
   "metadata": {},
   "outputs": [
    {
     "data": {
      "text/plain": [
       "array([[2, 4, 5],\n",
       "       [7, 5, 9]])"
      ]
     },
     "execution_count": 96,
     "metadata": {},
     "output_type": "execute_result"
    }
   ],
   "source": [
    "arr17 = np.array([[2,4,5],[7,5,9]])\n",
    "arr17"
   ]
  },
  {
   "cell_type": "code",
   "execution_count": 98,
   "id": "023e4ce3-a3a2-45f4-8cdc-704421da7aed",
   "metadata": {},
   "outputs": [
    {
     "data": {
      "text/plain": [
       "array([[0, 1, 2, 2, 4, 5],\n",
       "       [3, 4, 5, 7, 5, 9]])"
      ]
     },
     "execution_count": 98,
     "metadata": {},
     "output_type": "execute_result"
    }
   ],
   "source": [
    "np.hstack((arr15,arr17))"
   ]
  },
  {
   "cell_type": "code",
   "execution_count": 99,
   "id": "336b394a-295c-4a6b-b63a-4afd5919fb59",
   "metadata": {},
   "outputs": [
    {
     "data": {
      "text/plain": [
       "array([[0, 1, 2],\n",
       "       [3, 4, 5],\n",
       "       [2, 4, 5],\n",
       "       [7, 5, 9]])"
      ]
     },
     "execution_count": 99,
     "metadata": {},
     "output_type": "execute_result"
    }
   ],
   "source": [
    "np.vstack((arr15,arr17))"
   ]
  },
  {
   "cell_type": "code",
   "execution_count": 100,
   "id": "34f87062-47db-40c5-978f-f90648b5f4eb",
   "metadata": {},
   "outputs": [
    {
     "data": {
      "text/plain": [
       "array([[0, 1, 2],\n",
       "       [3, 4, 5]])"
      ]
     },
     "execution_count": 100,
     "metadata": {},
     "output_type": "execute_result"
    }
   ],
   "source": [
    "arr15"
   ]
  },
  {
   "cell_type": "code",
   "execution_count": 101,
   "id": "9d4b8a8b-10de-404b-99ee-0cf419d59d34",
   "metadata": {},
   "outputs": [
    {
     "data": {
      "text/plain": [
       "[array([[0],\n",
       "        [3]]),\n",
       " array([[1],\n",
       "        [4]]),\n",
       " array([[2],\n",
       "        [5]])]"
      ]
     },
     "execution_count": 101,
     "metadata": {},
     "output_type": "execute_result"
    }
   ],
   "source": [
    "np.hsplit(arr15,3)"
   ]
  },
  {
   "cell_type": "code",
   "execution_count": 103,
   "id": "dec05b0f-99c6-4e84-88eb-6f7782b398d3",
   "metadata": {},
   "outputs": [
    {
     "data": {
      "text/plain": [
       "[array([[0, 1, 2]]), array([[3, 4, 5]])]"
      ]
     },
     "execution_count": 103,
     "metadata": {},
     "output_type": "execute_result"
    }
   ],
   "source": [
    "np.vsplit(arr15,2)"
   ]
  },
  {
   "cell_type": "markdown",
   "id": "7cc9333a-b01d-48b6-8c27-0316f09b1003",
   "metadata": {},
   "source": [
    "## Fancy Indexing"
   ]
  },
  {
   "cell_type": "code",
   "execution_count": 105,
   "id": "c4c40160-d6ff-4ccd-8fe5-287d42a1b5d0",
   "metadata": {},
   "outputs": [],
   "source": [
    "arr18 = np.arange(24).reshape(6,4)"
   ]
  },
  {
   "cell_type": "code",
   "execution_count": 106,
   "id": "43e1e89a-75cd-4641-b457-6d6c59e861b4",
   "metadata": {},
   "outputs": [
    {
     "data": {
      "text/plain": [
       "array([[ 0,  1,  2,  3],\n",
       "       [ 4,  5,  6,  7],\n",
       "       [ 8,  9, 10, 11],\n",
       "       [12, 13, 14, 15],\n",
       "       [16, 17, 18, 19],\n",
       "       [20, 21, 22, 23]])"
      ]
     },
     "execution_count": 106,
     "metadata": {},
     "output_type": "execute_result"
    }
   ],
   "source": [
    "arr18"
   ]
  },
  {
   "cell_type": "code",
   "execution_count": 108,
   "id": "b7208ce0-525a-4b59-9ab9-a2ed63c242de",
   "metadata": {},
   "outputs": [
    {
     "data": {
      "text/plain": [
       "array([[ 0,  1,  2,  3],\n",
       "       [ 8,  9, 10, 11],\n",
       "       [16, 17, 18, 19]])"
      ]
     },
     "execution_count": 108,
     "metadata": {},
     "output_type": "execute_result"
    }
   ],
   "source": [
    "arr18[[0,2,4]]"
   ]
  },
  {
   "cell_type": "markdown",
   "id": "4ebb1a0b-f37e-49b0-8f7f-4d91c0d2bb40",
   "metadata": {},
   "source": [
    "## Indexing using Boolean Arrays"
   ]
  },
  {
   "cell_type": "code",
   "execution_count": 116,
   "id": "85060e0b-e876-4e49-b79b-95fbabe80358",
   "metadata": {},
   "outputs": [],
   "source": [
    "arr19 = np.random.randint(low=1,high=100,size=20).reshape(4,5)"
   ]
  },
  {
   "cell_type": "code",
   "execution_count": 117,
   "id": "caf71b38-51fb-4ad4-8259-67659c7cd15d",
   "metadata": {},
   "outputs": [
    {
     "data": {
      "text/plain": [
       "array([[19,  2, 19, 73, 75],\n",
       "       [87,  2,  2, 18, 26],\n",
       "       [84, 15, 47, 94, 87],\n",
       "       [ 8, 19, 59, 56, 41]])"
      ]
     },
     "execution_count": 117,
     "metadata": {},
     "output_type": "execute_result"
    }
   ],
   "source": [
    "arr19"
   ]
  },
  {
   "cell_type": "code",
   "execution_count": 119,
   "id": "eb96e1a2-d7e7-4f8e-856f-ea8a45d40813",
   "metadata": {},
   "outputs": [
    {
     "data": {
      "text/plain": [
       "array([[False, False, False,  True,  True],\n",
       "       [ True, False, False, False, False],\n",
       "       [ True, False, False,  True,  True],\n",
       "       [False, False,  True,  True, False]])"
      ]
     },
     "execution_count": 119,
     "metadata": {},
     "output_type": "execute_result"
    }
   ],
   "source": [
    "arr19>50"
   ]
  },
  {
   "cell_type": "code",
   "execution_count": 126,
   "id": "48cfc72e-6a1a-4ff3-87a8-bbf502a52674",
   "metadata": {},
   "outputs": [
    {
     "data": {
      "text/plain": [
       "array([73, 75, 87, 84, 94, 87, 59, 56])"
      ]
     },
     "execution_count": 126,
     "metadata": {},
     "output_type": "execute_result"
    }
   ],
   "source": [
    "arr19[(arr19>50)]"
   ]
  },
  {
   "cell_type": "code",
   "execution_count": 127,
   "id": "3e914b1a-e851-49ce-91b8-106e7e738e87",
   "metadata": {},
   "outputs": [
    {
     "data": {
      "text/plain": [
       "array([73, 75, 87, 87, 59])"
      ]
     },
     "execution_count": 127,
     "metadata": {},
     "output_type": "execute_result"
    }
   ],
   "source": [
    "arr19[(arr19>50) & (arr19%2 != 0)]"
   ]
  },
  {
   "cell_type": "code",
   "execution_count": 128,
   "id": "532763fb-edfb-4cae-b755-a16c47bc9fbb",
   "metadata": {},
   "outputs": [],
   "source": [
    "arr19[(arr19>50) & (arr19%2 != 0)] = 0"
   ]
  },
  {
   "cell_type": "code",
   "execution_count": 129,
   "id": "32b1b3cb-6a41-4f2c-8018-758ac935c671",
   "metadata": {},
   "outputs": [
    {
     "data": {
      "text/plain": [
       "array([[19,  2, 19,  0,  0],\n",
       "       [ 0,  2,  2, 18, 26],\n",
       "       [84, 15, 47, 94,  0],\n",
       "       [ 8, 19,  0, 56, 41]])"
      ]
     },
     "execution_count": 129,
     "metadata": {},
     "output_type": "execute_result"
    }
   ],
   "source": [
    "arr19"
   ]
  },
  {
   "cell_type": "markdown",
   "id": "57869ac4-98d9-44af-9727-44bf32b81dd4",
   "metadata": {},
   "source": [
    "## Broadcasting\n",
    "\n",
    "The ability of Numpy arrays to perform arithmetic operations on arrays of dissimilar sizes, by broadcasting the smaller array to match the size."
   ]
  },
  {
   "cell_type": "code",
   "execution_count": 136,
   "id": "8b5bcebd-2093-475c-b5b0-01714d411cbd",
   "metadata": {},
   "outputs": [],
   "source": [
    "a1 = np.arange(8).reshape(2,4)\n",
    "a2 = np.arange(8,12).reshape(1,4)"
   ]
  },
  {
   "cell_type": "code",
   "execution_count": 137,
   "id": "a452bf4f-3e86-4777-88f6-437616cbc57f",
   "metadata": {},
   "outputs": [
    {
     "data": {
      "text/plain": [
       "array([[ 8, 10, 12, 14],\n",
       "       [12, 14, 16, 18]])"
      ]
     },
     "execution_count": 137,
     "metadata": {},
     "output_type": "execute_result"
    }
   ],
   "source": [
    "a1+a2"
   ]
  },
  {
   "cell_type": "code",
   "execution_count": 139,
   "id": "d0e7a819-8890-48e6-b384-401ae4467e11",
   "metadata": {},
   "outputs": [],
   "source": [
    "a3 = np.arange(9).reshape(3,3)\n",
    "a4 = np.array([1])"
   ]
  },
  {
   "cell_type": "code",
   "execution_count": 141,
   "id": "a907a832-4aba-4fbf-b681-f0bf0f427da9",
   "metadata": {},
   "outputs": [
    {
     "data": {
      "text/plain": [
       "array([[0, 1, 2],\n",
       "       [3, 4, 5],\n",
       "       [6, 7, 8]])"
      ]
     },
     "execution_count": 141,
     "metadata": {},
     "output_type": "execute_result"
    }
   ],
   "source": [
    "a3"
   ]
  },
  {
   "cell_type": "code",
   "execution_count": 142,
   "id": "1518baec-ec34-4eab-8e8f-e0e50524fdf0",
   "metadata": {},
   "outputs": [
    {
     "data": {
      "text/plain": [
       "array([[1, 2, 3],\n",
       "       [4, 5, 6],\n",
       "       [7, 8, 9]])"
      ]
     },
     "execution_count": 142,
     "metadata": {},
     "output_type": "execute_result"
    }
   ],
   "source": [
    "a3+a4"
   ]
  },
  {
   "cell_type": "markdown",
   "id": "f9784eb7-605b-40b3-804b-d52f64b69784",
   "metadata": {},
   "source": [
    "## Important Numpy functions"
   ]
  },
  {
   "cell_type": "code",
   "execution_count": 188,
   "id": "fd0e06af-38be-41fe-8e6e-82cc514fcdd6",
   "metadata": {},
   "outputs": [
    {
     "data": {
      "text/plain": [
       "0.1073653029524273"
      ]
     },
     "execution_count": 188,
     "metadata": {},
     "output_type": "execute_result"
    }
   ],
   "source": [
    "np.random.random()"
   ]
  },
  {
   "cell_type": "code",
   "execution_count": 189,
   "id": "56544707-1d23-4f53-9d5b-924a98ac68ff",
   "metadata": {},
   "outputs": [
    {
     "data": {
      "text/plain": [
       "0.417022004702574"
      ]
     },
     "execution_count": 189,
     "metadata": {},
     "output_type": "execute_result"
    }
   ],
   "source": [
    "np.random.seed(1)\n",
    "np.random.random()"
   ]
  },
  {
   "cell_type": "code",
   "execution_count": 190,
   "id": "4967e58d-bfa9-4846-b26c-ab4c8bd89e16",
   "metadata": {},
   "outputs": [
    {
     "data": {
      "text/plain": [
       "8.042271454095108"
      ]
     },
     "execution_count": 190,
     "metadata": {},
     "output_type": "execute_result"
    }
   ],
   "source": [
    "np.random.uniform(3,10)"
   ]
  },
  {
   "cell_type": "code",
   "execution_count": 191,
   "id": "06e98e0c-f2c3-4faf-97ae-50914fe626fa",
   "metadata": {},
   "outputs": [
    {
     "data": {
      "text/plain": [
       "array([3.00080062, 5.11632801, 4.02729124])"
      ]
     },
     "execution_count": 191,
     "metadata": {},
     "output_type": "execute_result"
    }
   ],
   "source": [
    "np.random.uniform(3,10,3)"
   ]
  },
  {
   "cell_type": "code",
   "execution_count": 192,
   "id": "889bf014-b9a7-4a9f-be34-c335d10cb3d7",
   "metadata": {},
   "outputs": [
    {
     "data": {
      "text/plain": [
       "1"
      ]
     },
     "execution_count": 192,
     "metadata": {},
     "output_type": "execute_result"
    }
   ],
   "source": [
    "np.random.randint(1,10)"
   ]
  },
  {
   "cell_type": "code",
   "execution_count": 200,
   "id": "af22d788-e465-4f9e-b9f1-61fb20d20402",
   "metadata": {},
   "outputs": [],
   "source": [
    "a = np.random.randint(1,10,10)"
   ]
  },
  {
   "cell_type": "code",
   "execution_count": 201,
   "id": "1f799ba5-68e8-4ae7-9fd8-b496f9dc1ad4",
   "metadata": {},
   "outputs": [
    {
     "data": {
      "text/plain": [
       "2"
      ]
     },
     "execution_count": 201,
     "metadata": {},
     "output_type": "execute_result"
    }
   ],
   "source": [
    "a.min()"
   ]
  },
  {
   "cell_type": "code",
   "execution_count": 202,
   "id": "35af5fd1-492e-422b-8e7a-db10e6bce9c2",
   "metadata": {},
   "outputs": [
    {
     "data": {
      "text/plain": [
       "8"
      ]
     },
     "execution_count": 202,
     "metadata": {},
     "output_type": "execute_result"
    }
   ],
   "source": [
    "a.argmin() #gives the index of minimum value"
   ]
  },
  {
   "cell_type": "code",
   "execution_count": 203,
   "id": "d19f816b-70e8-4de6-9073-811329d028b4",
   "metadata": {},
   "outputs": [
    {
     "data": {
      "text/plain": [
       "8"
      ]
     },
     "execution_count": 203,
     "metadata": {},
     "output_type": "execute_result"
    }
   ],
   "source": [
    "a.max()"
   ]
  },
  {
   "cell_type": "code",
   "execution_count": 204,
   "id": "c9b0cb41-3a1d-4222-9df0-dbd9b22b1fcd",
   "metadata": {},
   "outputs": [
    {
     "data": {
      "text/plain": [
       "6"
      ]
     },
     "execution_count": 204,
     "metadata": {},
     "output_type": "execute_result"
    }
   ],
   "source": [
    "a.argmax()"
   ]
  },
  {
   "cell_type": "code",
   "execution_count": 205,
   "id": "bd1209e5-0610-45d7-8fcb-7f8f584c8666",
   "metadata": {},
   "outputs": [
    {
     "data": {
      "text/plain": [
       "8"
      ]
     },
     "execution_count": 205,
     "metadata": {},
     "output_type": "execute_result"
    }
   ],
   "source": [
    "a[a.argmax()]"
   ]
  },
  {
   "cell_type": "code",
   "execution_count": 206,
   "id": "ebd89f97-3147-49d3-b98f-9e29a27ef2e0",
   "metadata": {},
   "outputs": [
    {
     "data": {
      "text/plain": [
       "array([5, 6, 3, 5, 3, 5, 8, 8, 2, 8])"
      ]
     },
     "execution_count": 206,
     "metadata": {},
     "output_type": "execute_result"
    }
   ],
   "source": [
    "a"
   ]
  },
  {
   "cell_type": "code",
   "execution_count": 207,
   "id": "4a3264b3-cdfc-48e9-bc12-936717ec7e25",
   "metadata": {},
   "outputs": [],
   "source": [
    "a[(a%2 != 0)] = -1"
   ]
  },
  {
   "cell_type": "code",
   "execution_count": 208,
   "id": "99d4393c-f73e-43bb-be41-07d4f99b003d",
   "metadata": {},
   "outputs": [
    {
     "data": {
      "text/plain": [
       "array([-1,  6, -1, -1, -1, -1,  8,  8,  2,  8])"
      ]
     },
     "execution_count": 208,
     "metadata": {},
     "output_type": "execute_result"
    }
   ],
   "source": [
    "a"
   ]
  },
  {
   "cell_type": "code",
   "execution_count": 212,
   "id": "fd394d47-bcd5-4731-b9ae-aa52e5795baf",
   "metadata": {},
   "outputs": [
    {
     "data": {
      "text/plain": [
       "array([9, 8, 4, 7, 6, 2, 4, 5, 9, 2])"
      ]
     },
     "execution_count": 212,
     "metadata": {},
     "output_type": "execute_result"
    }
   ],
   "source": [
    "a = np.random.randint(1,10,10)\n",
    "a"
   ]
  },
  {
   "cell_type": "code",
   "execution_count": 214,
   "id": "50b1515b-60ac-41b4-8e94-02d457a8375a",
   "metadata": {},
   "outputs": [
    {
     "data": {
      "text/plain": [
       "array([2, 2, 4, 4, 5, 6, 7, 8, 9, 9])"
      ]
     },
     "execution_count": 214,
     "metadata": {},
     "output_type": "execute_result"
    }
   ],
   "source": [
    "np.sort(a)"
   ]
  },
  {
   "cell_type": "code",
   "execution_count": 219,
   "id": "8ba56404-2c9a-415f-bd2f-e4d7b0d8f2aa",
   "metadata": {},
   "outputs": [
    {
     "data": {
      "text/plain": [
       "5.5"
      ]
     },
     "execution_count": 219,
     "metadata": {},
     "output_type": "execute_result"
    }
   ],
   "source": [
    "np.percentile(a,50)"
   ]
  }
 ],
 "metadata": {
  "kernelspec": {
   "display_name": "Python 3 (ipykernel)",
   "language": "python",
   "name": "python3"
  },
  "language_info": {
   "codemirror_mode": {
    "name": "ipython",
    "version": 3
   },
   "file_extension": ".py",
   "mimetype": "text/x-python",
   "name": "python",
   "nbconvert_exporter": "python",
   "pygments_lexer": "ipython3",
   "version": "3.11.4"
  }
 },
 "nbformat": 4,
 "nbformat_minor": 5
}
