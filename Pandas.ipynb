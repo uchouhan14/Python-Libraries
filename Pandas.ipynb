{
 "cells": [
  {
   "cell_type": "markdown",
   "id": "0b8ae280-5419-455c-a13e-0c9794a4841b",
   "metadata": {},
   "source": [
    "# Pandas\n",
    "\n",
    "In computer programming, pandas is a software library written for the Python programming language for data manipulation and analysis. In particular, it offers data structures and operations for manipulating numerical tables and time series.\n",
    "\n",
    "Pandas main data-structures\n",
    "1. Dataframes - Tabular Data is a dataframe.\n",
    "2. Series - A Row/Column from the data frame is called series."
   ]
  },
  {
   "cell_type": "code",
   "execution_count": null,
   "id": "61b5fd8f-8c08-454d-b926-684472e8e72a",
   "metadata": {},
   "outputs": [],
   "source": []
  }
 ],
 "metadata": {
  "kernelspec": {
   "display_name": "Python 3 (ipykernel)",
   "language": "python",
   "name": "python3"
  },
  "language_info": {
   "codemirror_mode": {
    "name": "ipython",
    "version": 3
   },
   "file_extension": ".py",
   "mimetype": "text/x-python",
   "name": "python",
   "nbconvert_exporter": "python",
   "pygments_lexer": "ipython3",
   "version": "3.11.4"
  }
 },
 "nbformat": 4,
 "nbformat_minor": 5
}
